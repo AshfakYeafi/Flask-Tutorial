{
 "cells": [
  {
   "cell_type": "markdown",
   "metadata": {},
   "source": [
    "# Deploy Machine Learning models in Production as APIs (using Flask)"
   ]
  },
  {
   "cell_type": "markdown",
   "metadata": {},
   "source": [
    "# Breakdown of this Notebook:\n",
    "\n",
    "1) Install **flask & gunicorn**\n",
    "\n",
    "2) Create Machine Learning Model\n",
    "\n",
    "3) Saving Machine Learning Model\n",
    "\n",
    "4) Creating an API using Flask\n",
    "\n",
    "5) Create an front-end application\n",
    "\n",
    "6) Hosting on personal server"
   ]
  },
  {
   "cell_type": "markdown",
   "metadata": {},
   "source": [
    "## Environment setup"
   ]
  },
  {
   "cell_type": "markdown",
   "metadata": {},
   "source": [
    "<img src='flask1.jpg' width=500 height=200>"
   ]
  },
  {
   "cell_type": "markdown",
   "metadata": {},
   "source": [
    "**Flask is a web framework.** This means flask provides you with tools, libraries and technologies that allow you to build a web application. This web application can be some web pages, a blog, a wiki or go as big as a web-based calendar application or a commercial website."
   ]
  },
  {
   "cell_type": "markdown",
   "metadata": {},
   "source": [
    "### In Anaconda Distribution install Flask:\n",
    "1) pip install flask\n",
    "\n",
    "\n",
    "2) pip install gunicorn"
   ]
  },
  {
   "cell_type": "markdown",
   "metadata": {},
   "source": [
    "## Explanation of Data Flow using Flask"
   ]
  },
  {
   "cell_type": "markdown",
   "metadata": {},
   "source": [
    "<img src='data.png'>"
   ]
  },
  {
   "cell_type": "markdown",
   "metadata": {},
   "source": [
    "**Steps to be taken:**\n",
    "\n",
    "1) Train the Machine Learning Model\n",
    "\n",
    "2) Save the trained model object as a pickle file (serialization)\n",
    "\n",
    "3) Create a flask environment that will have an API endpoint which would encapsulate our trained model and enable it to receive inputs (features) through GET requests over HTTP/HTTPS and then return the output after de-serializing the earlier serialized model\n",
    "\n",
    "4) Upload the flask script along with the trained Machine Learning Model\n",
    "\n",
    "5) Make requests to the hosted flask script through a website or any other application capable of sending HTTP/HTTPS requests"
   ]
  },
  {
   "cell_type": "markdown",
   "metadata": {},
   "source": [
    "## Machine Learning Model"
   ]
  },
  {
   "cell_type": "markdown",
   "metadata": {},
   "source": [
    "### Train our Machine Learning Model"
   ]
  },
  {
   "cell_type": "markdown",
   "metadata": {},
   "source": [
    "Create a Python file model.py"
   ]
  },
  {
   "cell_type": "code",
   "execution_count": 3,
   "metadata": {},
   "outputs": [
    {
     "name": "stdout",
     "output_type": "stream",
     "text": [
      "[71646.10721559]\n"
     ]
    }
   ],
   "source": [
    "# Multiple Linear Regression\n",
    "\n",
    "# Importing the libraries\n",
    "import numpy as np\n",
    "import matplotlib.pyplot as plt\n",
    "import pandas as pd\n",
    "import pickle #A module called pickle helps perform serialization and deserialization in python.\n",
    "\n",
    "# Importing the dataset\n",
    "dataset = pd.read_csv('50_Startup.csv')\n",
    "X = dataset.iloc[:, :-1].values\n",
    "y = dataset.iloc[:, 3].values\n",
    "\n",
    "\n",
    "# Fitting Multiple Linear Regression to the Training set\n",
    "from sklearn.linear_model import LinearRegression\n",
    "regressor = LinearRegression()\n",
    "regressor.fit(X, y)\n",
    "\n",
    "# Saving model to disk\n",
    "pickle.dump(regressor, open('model.pkl','wb'))\n",
    "\n",
    "# Loading model to compare the results\n",
    "model = pickle.load(open('model.pkl','rb'))\n",
    "print(model.predict([[16000, 135000, 450000]]))"
   ]
  },
  {
   "cell_type": "markdown",
   "metadata": {},
   "source": [
    "Here after running the above code, a file called “model.pkl” is created using dump which is the trained model that can be transferred anywhere and used after de-serialization as given using load."
   ]
  },
  {
   "cell_type": "markdown",
   "metadata": {},
   "source": [
    "## Flask setup"
   ]
  },
  {
   "cell_type": "markdown",
   "metadata": {},
   "source": [
    "Let’s first set up the flask server on the local host and later deploy it on python"
   ]
  },
  {
   "cell_type": "markdown",
   "metadata": {},
   "source": [
    "The following script starts the flask server on localhost and default port (5000) making the URL: http://127.0.0.1:5000/"
   ]
  },
  {
   "cell_type": "code",
   "execution_count": null,
   "metadata": {},
   "outputs": [],
   "source": [
    "import numpy as np\n",
    "from flask import Flask, request, jsonify, render_template\n",
    "# Flask - To import flask,request - Getting the request data (for which predictions are to be made), \n",
    "# jsonify - jsonify our predictions and send the response back\n",
    "import pickle\n",
    "\n",
    "app = Flask(__name__) #create an instance of flask.\n",
    "model = pickle.load(open('model1.pkl', 'rb')) #Load our model pickle file\n",
    "\n",
    "@app.route('/')\n",
    "def home():\n",
    "    return render_template('index.html')\n",
    "\n",
    "# @app.route('/') is used to tell flask what url should trigger the function index() \n",
    "# and in the function index we use render_template('index.html') to display the script index.html in the browser.\n",
    "@app.route('/predict',methods=['POST'])\n",
    "\"\"\" Let's write a function predict() which will do:\n",
    "\n",
    "1) Load the persisted model into memory when the application starts,\n",
    "2) Create an API endpoint that takes input variables, transforms them into the appropriate format, and returns predictions.\"\"\"\n",
    "\n",
    "def predict():\n",
    "    '''\n",
    "    For rendering results on HTML GUI\n",
    "    '''\n",
    "    int_features = [int(x) for x in request.form.values()] #Take Input as integer values\n",
    "    final_features = [np.array(int_features)] #convert it into array\n",
    "    prediction = model.predict(final_features) #PRedict\n",
    "\n",
    "    output = round(prediction[0], 2)\n",
    "\n",
    "    return render_template('index.html', prediction_text='Profit should be $ {}'.format(output)) \n",
    "\n",
    "@app.route('/predict_api',methods=['POST'])\n",
    "def predict_api():\n",
    "    '''\n",
    "    For direct API calls trought request\n",
    "    '''\n",
    "    data = request.get_json(force=True)\n",
    "    prediction = model.predict([np.array(list(data.values()))])\n",
    "\n",
    "    output = prediction[0]\n",
    "    return jsonify(output)\n",
    "\n",
    "if __name__ == \"__main__\":\n",
    "    app.run(debug=True)"
   ]
  },
  {
   "cell_type": "markdown",
   "metadata": {},
   "source": [
    "**In App Route**\n",
    "app.route decorator is used for specifying the flask app route over the web.\n",
    "\n",
    "1) “/” simply means the home that is “http://127.0.0.1:5000/”\n",
    "\n",
    "2) “/predict/” means http://127.0.0.1:5000/predict/"
   ]
  },
  {
   "cell_type": "markdown",
   "metadata": {},
   "source": [
    "### Routing\n",
    "After initializing the app, we have to tell Flask what we want to do when the web page loads. \n",
    "The line @app.route(\"/\", methods = [\"GET\",\"POST\"]) tells Flask what to do when we load the home page of our website. The GET method is the type of request your web browser will send the website when it accesses the URL of the web page. Don’t worry about the POST method because it’s a request conventionally used when a user want to change a website, and it doesn’t have much relevance for us in this deployment process. "
   ]
  },
  {
   "cell_type": "markdown",
   "metadata": {},
   "source": [
    "## Setting up the index.html"
   ]
  },
  {
   "cell_type": "code",
   "execution_count": null,
   "metadata": {},
   "outputs": [],
   "source": [
    "<!DOCTYPE html>\n",
    "<html >\n",
    "<!--From https://codepen.io/frytyler/pen/EGdtg-->\n",
    "<head>\n",
    "  <meta charset=\"UTF-8\">\n",
    "    <title>ML API</title>\n",
    "     <link href='https://fonts.googleapis.com/css?family=Pacifico' rel='stylesheet' type='text/css'>\n",
    "<link href='https://fonts.googleapis.com/css?family=Arimo' rel='stylesheet' type='text/css'>\n",
    "<link href='https://fonts.googleapis.com/css?family=Hind:300' rel='stylesheet' type='text/css'>\n",
    "<link href='https://fonts.googleapis.com/css?family=Open+Sans+Condensed:300' rel='stylesheet' type='text/css'>\n",
    "<link rel=\"stylesheet\" href=\"{{ url_for('static', filename='css/style.css') }}\">\n",
    "  \n",
    "</head>\n",
    "\n",
    "<body>\n",
    " <div class=\"login\">\n",
    "    <h1>Predict Profit</h1>\n",
    "\n",
    "     <!-- Main Input For Receiving Query to our ML -->\n",
    "    <form action=\"{{ url_for('predict')}}\"method=\"post\">\n",
    "        <input type=\"text\" name=\"R&D Spend\" placeholder=\"R&D Spend\" required=\"required\" /> <!--Taking Input of Marketing -->\n",
    "        <input type=\"text\" name=\"Administration\" placeholder=\"Administration\" required=\"required\" /><!--Input of Administration -->\n",
    "        <input type=\"text\" name=\"Marketing\" placeholder=\"Marketing\" required=\"required\" /> <!-- Input for Marketing -->\n",
    "\n",
    "        <button type=\"submit\" class=\"btn btn-primary btn-block btn-large\">Predict</button>\n",
    "    </form>\n",
    "\n",
    "    <br>\n",
    "    <br>\n",
    "    {{ prediction_text }}  <!-- Predicted Value -->\n",
    "\n",
    "    </div>\n",
    "\n",
    "\n",
    "</body>\n",
    "</html>\n"
   ]
  },
  {
   "cell_type": "markdown",
   "metadata": {},
   "source": [
    "### Save model.py, app.py and index.html"
   ]
  },
  {
   "cell_type": "markdown",
   "metadata": {},
   "source": [
    "Run app.py in anaconda prompt"
   ]
  },
  {
   "cell_type": "markdown",
   "metadata": {},
   "source": [
    "<img src='Screenshot (129).png'>"
   ]
  },
  {
   "cell_type": "markdown",
   "metadata": {},
   "source": [
    "Copy the url  http://127.0.0.1:5000/\n",
    "and paste it into your browser"
   ]
  },
  {
   "cell_type": "markdown",
   "metadata": {},
   "source": [
    "<img src='Screenshot (131).png'>"
   ]
  },
  {
   "cell_type": "markdown",
   "metadata": {},
   "source": [
    "<img src='Screenshot (132).png'>"
   ]
  },
  {
   "cell_type": "markdown",
   "metadata": {},
   "source": [
    "## Input Data into different Categories"
   ]
  },
  {
   "cell_type": "markdown",
   "metadata": {},
   "source": [
    "<img src='Screenshot (133).png'>"
   ]
  },
  {
   "cell_type": "markdown",
   "metadata": {},
   "source": [
    "## Then Press Predict Button"
   ]
  },
  {
   "cell_type": "markdown",
   "metadata": {},
   "source": [
    "<img src='Screenshot (134).png'>"
   ]
  },
  {
   "cell_type": "markdown",
   "metadata": {},
   "source": [
    "### You can see that we Predicted our profit and notice that url of the page changed to http://127.0.0.1:5000/predict"
   ]
  },
  {
   "cell_type": "markdown",
   "metadata": {},
   "source": [
    "The Writer of this notebook is **Chirag Samal**.\n",
    "GitHub Link: "
   ]
  },
  {
   "cell_type": "code",
   "execution_count": null,
   "metadata": {},
   "outputs": [],
   "source": []
  }
 ],
 "metadata": {
  "kernelspec": {
   "display_name": "Python 3",
   "language": "python",
   "name": "python3"
  },
  "language_info": {
   "codemirror_mode": {
    "name": "ipython",
    "version": 3
   },
   "file_extension": ".py",
   "mimetype": "text/x-python",
   "name": "python",
   "nbconvert_exporter": "python",
   "pygments_lexer": "ipython3",
   "version": "3.7.4"
  }
 },
 "nbformat": 4,
 "nbformat_minor": 2
}
